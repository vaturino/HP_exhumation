{
 "cells": [
  {
   "cell_type": "code",
   "execution_count": 2,
   "metadata": {},
   "outputs": [],
   "source": [
    "from matplotlib.cm import get_cmap\n",
    "import pandas as pd\n",
    "import numpy as np\n",
    "import json\n",
    "from tqdm import tqdm\n",
    "import matplotlib.cm as cm\n",
    "import matplotlib as mpl\n",
    "import sys, os, subprocess\n",
    "from matplotlib.pyplot import copper, show, xlabel, ylabel\n",
    "import matplotlib.pyplot as plt\n",
    "import argparse\n",
    "from matplotlib.gridspec import GridSpec\n",
    "import math as math\n",
    "from scipy.signal import savgol_filter \n",
    "import seaborn as sns\n",
    "from matplotlib.axes._axes import _log as matplotlib_axes_logger\n",
    "matplotlib_axes_logger.setLevel('ERROR')\n",
    "import warnings\n",
    "warnings.simplefilter(action='ignore', category=FutureWarning)\n"
   ]
  },
  {
   "cell_type": "code",
   "execution_count": 39,
   "metadata": {},
   "outputs": [],
   "source": [
    "def grab_dimTime_particles (dir: str, stat:str, time):\n",
    "    ts = len(os.listdir(dir))\n",
    "    for t in range(ts):\n",
    "        time[t,0] = t\n",
    "    filt = stat.loc[:,18].notnull()\n",
    "    time[:,1] = stat[filt].loc[:,1]\n",
    "    return time\n",
    "\n",
    "def initial_particle_position (data: str, x: float, y: float):\n",
    "    rows = []\n",
    "    for i in range(len(data[\"initial position:0\"])):\n",
    "        rows.append([math.sqrt(pow((data[\"initial position:0\"][i] - x), 2) + pow((data[\"initial position:1\"][i] - y),2))])\n",
    "    df = pd.DataFrame(rows, columns=[\"distance\"])\n",
    "    idx = df[\"distance\"].idxmin()\n",
    "    return(data[\"initial position:0\"][idx], data[\"initial position:1\"][idx])\n",
    "\n",
    "def initial_particle_index (data: str, x: float, y: float):\n",
    "    rows = []\n",
    "    for i in range(len(data[\"initial position:0\"])):\n",
    "        rows.append([math.sqrt(pow((data[\"initial position:0\"][i] - x), 2) + pow((data[\"initial position:1\"][i] - y),2))])\n",
    "    df = pd.DataFrame(rows, columns=[\"distance\"])\n",
    "    idx = df[\"distance\"].idxmin()\n",
    "    return(idx)\n",
    "\n",
    "\n",
    "def load_dataset(loc_data:str, data: str):\n",
    "    if \"initial oc\" in data.columns:\n",
    "        df = pd.read_parquet(loc_data, columns=[\"initial position:0\", \"initial position:1\", \"Points:0\", \"Points:1\", \"initial oc\"])\n",
    "    elif {\"initial ocean_crust\",\"initial upper_cont\",\"initial lower_cont\"}.issubset(data.columns):\n",
    "        df = pd.read_csv(loc_data, columns=[\"initial position:0\", \"initial position:1\", \"Points:0\", \"Points:1\", \"initial ocean_crust\",\"initial upper_cont\",\"initial lower_cont\"])\n",
    "    else:\n",
    "        df = pd.read_csv(loc_data, columns=[\"initial position:0\", \"initial position:1\", \"Points:0\", \"Points:1\", \"initial ocean_crust\"])\n",
    "    return (df)\n",
    "\n",
    "\n",
    "\n",
    "def get_incoming_particles(data: str, compo: float, from_trench: float, samples: float):\n",
    "    if \"initial oc\" in data.columns:\n",
    "        part = data[(data[\"initial oc\"] >= compo) & (data[\"Points:0\"] <= from_trench + 2.e3) & (data[\"Points:0\"] >= from_trench - 2.e3)]\n",
    "        part = part.sample(n = samples).reset_index()\n",
    "    elif {\"initial oc\",\"initial sed\"}.issubset(data.columns):\n",
    "        sumcomp = data[\"initial oc\"] + data[\"initial sed\"]\n",
    "        part = data[(sumcomp >= compo) & (data[\"Points:0\"] <= from_trench + 2.e3) & (data[\"Points:0\"] >= from_trench - 2.e3)]\n",
    "        part = part.sample(n = samples).reset_index()\n",
    "    else:\n",
    "        sumcomp = data[\"initial oc\"] + data[\"initial serp\"]\n",
    "        part = data[(sumcomp >= compo) & (data[\"Points:0\"] <= from_trench + 2.e3) & (data[\"Points:0\"] >= from_trench - 2.e3)]\n",
    "        part = part.sample(n = samples).reset_index()\n",
    "    return (part)\n",
    "\n",
    "def get_incoming_pos(data: str, compo: float, from_trench: float, samples: float):\n",
    "    if \"initial C_1\" in data.columns:\n",
    "        part = data[(data[\"initial C_1\"] >= compo) & (data[\"Points:0\"] <= from_trench + 2.e3) & (data[\"Points:0\"] >= from_trench - 2.e3)]\n",
    "        part = part.sample(n = samples).reset_index()\n",
    "    elif {\"initial ocean_crust\",\"initial upper_cont\",\"initial lower_cont\"}.issubset(data.columns):\n",
    "        sumcomp = data[\"initial ocean_crust\"] + data[\"initial upper_cont\"] + data[\"initial lower_cont\"]\n",
    "        part = data[(sumcomp >= compo) & (data[\"Points:0\"] <= from_trench + 2.e3) & (data[\"Points:0\"] >= from_trench - 2.e3)]\n",
    "        part = part.sample(n = samples).reset_index()\n",
    "    else:\n",
    "        sumcomp = data[\"initial ocean_crust\"]\n",
    "        part = data[(sumcomp >= compo) & (data[\"Points:0\"] <= from_trench + 2.e3) & (data[\"Points:0\"] >= from_trench - 2.e3)]\n",
    "        part = part.sample(n = samples).reset_index()\n",
    "    return (part[\"initial position:0\"], part[\"initial position:1\"])\n",
    "\n",
    "\n",
    "def get_trench_position(p, threshold = 0.3e7):\n",
    "    if \"oc\" in p.columns:\n",
    "        tr =  p.loc[(p['Points:0']> threshold) & (p['oc'] > 0.3) & (p[\"Points:1\"] >= p[\"Points:1\"].max() - 10.e3),'Points:0'].max()\n",
    "    elif {\"oc\",\"sed\"}.issubset(p.columns):\n",
    "        sumcomp = p[\"oc\"] + p[\"sed\"]\n",
    "        tr =  p.loc[(p['Points:0']> threshold) & (sumcomp > 0.3) & (p[\"Points:1\"] >= p[\"Points:1\"].max() - 10.e3),'Points:0'].max()\n",
    "    else:\n",
    "        sumcomp = p[\"oc\"] + p[\"serp\"]\n",
    "        tr =  p.loc[(p['Points:0']> threshold) & (sumcomp > 0.3) & (p[\"Points:1\"] >= p[\"Points:1\"].max() - 10.e3),'Points:0'].max()\n",
    "    return tr\n",
    "\n",
    "\n",
    "def get_points_with_y_in(data, depth, delta, ymax = 2900.e3): \n",
    "    plate_prof_loc = ymax - depth\n",
    "    within_delta_from_depth = (data['Points:1'] < plate_prof_loc + delta) &(data['Points:1'] > plate_prof_loc - delta)\n",
    "    return data[within_delta_from_depth].sort_values('Points:0').copy(True)"
   ]
  },
  {
   "cell_type": "code",
   "execution_count": 27,
   "metadata": {},
   "outputs": [],
   "source": [
    "csvs_loc =  '/home/vturino/PhD/projects/exhumation/gz_outputs/'\n",
    "models_loc =  '/home/vturino/PhD/projects/exhumation/raw_outputs/'\n",
    "json_loc = '/home/vturino/PhD/projects/exhumation/pyInput/'\n",
    "mod = 'kin19_shear100.json'\n",
    "\n",
    "xmax = 5400.e3\n",
    "zmax = 900.e3\n",
    "\n",
    "with open(f\"{json_loc}{mod}\") as json_file:\n",
    "    configs = json.load(json_file)\n",
    "\n",
    "m = configs['models'][0]"
   ]
  },
  {
   "cell_type": "code",
   "execution_count": 28,
   "metadata": {},
   "outputs": [],
   "source": [
    "time_array = np.zeros((len(os.listdir(f\"{csvs_loc}{m}/particles\")),2))   \n",
    "stat = pd.read_csv(f\"{models_loc}{m}/statistics\",skiprows=configs['head_lines'],sep='\\s+',header=None)\n",
    "time_array = grab_dimTime_particles(f\"{csvs_loc}{m}/particles\", stat, time_array)"
   ]
  },
  {
   "cell_type": "code",
   "execution_count": 50,
   "metadata": {},
   "outputs": [],
   "source": [
    "init = pd.read_parquet(f\"{csvs_loc}{m}/particles/full.0.gzip\")\n",
    "p = pd.DataFrame(columns=init.columns)\n",
    "\n",
    "ts = len(time_array)\n",
    "t = 0\n",
    "\n",
    "full = load_dataset(loc_data=f\"{csvs_loc}{m}/particles/full.{t}.gzip\", data=init)\n",
    "full = full[full[\"initial position:1\"] >= zmax - 12.e3]\n",
    "data = pd.read_parquet(f\"{csvs_loc}{m}/fields/full.{int(t)}.gzip\")\n",
    "pts = get_points_with_y_in(data, 20.e3, 2.e3, ymax = 900.e3)\n",
    "trench= get_trench_position(pts,threshold = 0.13e7)\n",
    "incoming = trench - 10.e3\n",
    "tmp = get_incoming_particles(full, 0.1, incoming, 30)\n",
    "p = pd.concat([p,tmp])"
   ]
  },
  {
   "cell_type": "code",
   "execution_count": 51,
   "metadata": {},
   "outputs": [
    {
     "data": {
      "text/plain": [
       "2550781.2"
      ]
     },
     "execution_count": 51,
     "metadata": {},
     "output_type": "execute_result"
    }
   ],
   "source": [
    "trench"
   ]
  },
  {
   "cell_type": "code",
   "execution_count": 52,
   "metadata": {},
   "outputs": [
    {
     "data": {
      "text/plain": [
       "<matplotlib.collections.PathCollection at 0x7ff706356770>"
      ]
     },
     "execution_count": 52,
     "metadata": {},
     "output_type": "execute_result"
    },
    {
     "data": {
      "image/png": "[encoded data removed]",
      "text/plain": [
       "<Figure size 640x480 with 1 Axes>"
      ]
     },
     "metadata": {},
     "output_type": "display_data"
    }
   ],
   "source": [
    "plt.scatter(p[\"Points:0\"], p[\"Points:1\"])"
   ]
  },
  {
   "cell_type": "code",
   "execution_count": null,
   "metadata": {},
   "outputs": [],
   "source": []
  }
 ],
 "metadata": {
  "kernelspec": {
   "display_name": "Python 3",
   "language": "python",
   "name": "python3"
  },
  "language_info": {
   "codemirror_mode": {
    "name": "ipython",
    "version": 3
   },
   "file_extension": ".py",
   "mimetype": "text/x-python",
   "name": "python",
   "nbconvert_exporter": "python",
   "pygments_lexer": "ipython3",
   "version": "3.10.12"
  }
 },
 "nbformat": 4,
 "nbformat_minor": 2
}
